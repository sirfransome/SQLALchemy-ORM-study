{
 "cells": [
  {
   "cell_type": "code",
   "execution_count": 3,
   "metadata": {},
   "outputs": [],
   "source": [
    "import sqlalchemy\n",
    "from sqlalchemy import create_engine\n",
    "import os\n",
    "from dotenv import load_dotenv\n"
   ]
  },
  {
   "cell_type": "code",
   "execution_count": 6,
   "metadata": {},
   "outputs": [],
   "source": [
    "load_dotenv()\n",
    "user = os.getenv('user')\n",
    "password = os.getenv('password')\n",
    "host = os.getenv('host')\n",
    "db = os.getenv('db')\n",
    "engine = create_engine(f'postgresql+psycopg2://{user}:{password}@{host}:5439/{db}')"
   ]
  },
  {
   "cell_type": "code",
   "execution_count": 7,
   "metadata": {},
   "outputs": [],
   "source": [
    "### using in memory db\n",
    "engine = create_engine('sqlite:///:memory:', echo=True)"
   ]
  },
  {
   "cell_type": "code",
   "execution_count": 8,
   "metadata": {},
   "outputs": [],
   "source": [
    "### declaring a mapping \n",
    "from sqlalchemy.orm import declarative_base\n",
    "Base = declarative_base()"
   ]
  },
  {
   "cell_type": "code",
   "execution_count": 9,
   "metadata": {},
   "outputs": [],
   "source": [
    "## creating a mapped class for a single table\n",
    "from sqlalchemy import Column, Integer, String\n",
    "class User(Base): # inherits from declarative base\n",
    "    __tablename__ = 'users'\n",
    "    # defining the table properties and attributes -> primary_key column is necessary\n",
    "\n",
    "    id = Column(Integer, primary_key=True)\n",
    "    name = Column(String)\n",
    "    fullname = Column(String)\n",
    "    nickname = Column(String)\n",
    "\n",
    "\n",
    "    def __repr__(self) -> str: # defines the format of our output\n",
    "        return \"<User(name='%s', fullname='%s', nickname='%s')>\" % (\n",
    "            self.name,\n",
    "            self.fullname,\n",
    "            self.nickname\n",
    "        )"
   ]
  },
  {
   "cell_type": "code",
   "execution_count": 11,
   "metadata": {},
   "outputs": [
    {
     "data": {
      "text/plain": [
       "Table('users', MetaData(), Column('id', Integer(), table=<users>, primary_key=True, nullable=False), Column('name', String(), table=<users>), Column('fullname', String(), table=<users>), Column('nickname', String(), table=<users>), schema=None)"
      ]
     },
     "execution_count": 11,
     "metadata": {},
     "output_type": "execute_result"
    }
   ],
   "source": [
    "## inspecting our table metadata\n",
    "User.__table__"
   ]
  },
  {
   "cell_type": "code",
   "execution_count": 13,
   "metadata": {},
   "outputs": [
    {
     "name": "stdout",
     "output_type": "stream",
     "text": [
      "2023-03-17 21:41:32,586 INFO sqlalchemy.engine.Engine BEGIN (implicit)\n",
      "2023-03-17 21:41:32,595 INFO sqlalchemy.engine.Engine PRAGMA main.table_info(\"users\")\n",
      "2023-03-17 21:41:32,597 INFO sqlalchemy.engine.Engine [raw sql] ()\n",
      "2023-03-17 21:41:32,603 INFO sqlalchemy.engine.Engine PRAGMA temp.table_info(\"users\")\n",
      "2023-03-17 21:41:32,604 INFO sqlalchemy.engine.Engine [raw sql] ()\n",
      "2023-03-17 21:41:32,610 INFO sqlalchemy.engine.Engine \n",
      "CREATE TABLE users (\n",
      "\tid INTEGER NOT NULL, \n",
      "\tname VARCHAR, \n",
      "\tfullname VARCHAR, \n",
      "\tnickname VARCHAR, \n",
      "\tPRIMARY KEY (id)\n",
      ")\n",
      "\n",
      "\n",
      "2023-03-17 21:41:32,613 INFO sqlalchemy.engine.Engine [no key 0.00233s] ()\n",
      "2023-03-17 21:41:32,615 INFO sqlalchemy.engine.Engine COMMIT\n"
     ]
    }
   ],
   "source": [
    "# using the Metadata registry to create a table\n",
    "Base.metadata.create_all(engine)"
   ]
  },
  {
   "cell_type": "code",
   "execution_count": null,
   "metadata": {},
   "outputs": [],
   "source": [
    "## for firebird and Oracle sequence is required to generate new PK\n",
    "\n",
    "from sqlalchemy import Sequence\n",
    "\n",
    "Column(Integer, Sequence(\"user_id_seq\"), primary_key=True)\n",
    "\n",
    "class User(Base):\n",
    "    __tablename__ = \"users\"\n",
    "    id = Column(Integer, Sequence(\"user_id_seq\"), primary_key=True)\n",
    "    name = Column(String(50))\n",
    "    fullname = Column(String(50))\n",
    "    nickname = Column(String(50))\n",
    "\n",
    "    def __repr__(self):\n",
    "        return \"<User(name='%s', fullname='%s', nickname='%s')>\" % (\n",
    "            self.name,\n",
    "            self.fullname,\n",
    "            self.nickname,\n",
    "        )\n"
   ]
  },
  {
   "cell_type": "code",
   "execution_count": 14,
   "metadata": {},
   "outputs": [
    {
     "data": {
      "text/plain": [
       "'ed'"
      ]
     },
     "execution_count": 14,
     "metadata": {},
     "output_type": "execute_result"
    }
   ],
   "source": [
    "# creating instance of the mapped class User\n",
    "ed_user = User(name='ed', fullname='Éd Jones', nickname= 'edsnickname')\n",
    "ed_user.name"
   ]
  },
  {
   "attachments": {},
   "cell_type": "markdown",
   "metadata": {},
   "source": [
    "Note the Base declarative system automatically provided the __init__() constructor class this can be declared explicitly which will over ride the default provided by Base"
   ]
  },
  {
   "cell_type": "code",
   "execution_count": 15,
   "metadata": {},
   "outputs": [],
   "source": [
    "# creating a session this allows us to speak to the db\n",
    "from sqlalchemy.orm import sessionmaker\n",
    "\n",
    "Session = sessionmaker(bind=engine)\n"
   ]
  },
  {
   "cell_type": "code",
   "execution_count": 16,
   "metadata": {},
   "outputs": [],
   "source": [
    "session = Session()"
   ]
  },
  {
   "cell_type": "code",
   "execution_count": 17,
   "metadata": {},
   "outputs": [],
   "source": [
    "# adding objects to our User\n",
    "ed_user = User(name='ed', fullname='Éd Jones', nickname= 'edsnickname')\n",
    "session.add(ed_user)"
   ]
  },
  {
   "cell_type": "code",
   "execution_count": 18,
   "metadata": {},
   "outputs": [
    {
     "name": "stdout",
     "output_type": "stream",
     "text": [
      "2023-03-17 21:57:28,960 INFO sqlalchemy.engine.Engine BEGIN (implicit)\n",
      "2023-03-17 21:57:28,973 INFO sqlalchemy.engine.Engine INSERT INTO users (name, fullname, nickname) VALUES (?, ?, ?)\n",
      "2023-03-17 21:57:28,974 INFO sqlalchemy.engine.Engine [generated in 0.00183s] ('ed', 'Éd Jones', 'edsnickname')\n",
      "2023-03-17 21:57:28,993 INFO sqlalchemy.engine.Engine SELECT users.id AS users_id, users.name AS users_name, users.fullname AS users_fullname, users.nickname AS users_nickname \n",
      "FROM users \n",
      "WHERE users.name = ?\n",
      " LIMIT ? OFFSET ?\n",
      "2023-03-17 21:57:28,994 INFO sqlalchemy.engine.Engine [generated in 0.00091s] ('ed', 1, 0)\n"
     ]
    }
   ],
   "source": [
    "# Getting our user\n",
    "our_user = (\n",
    "    session.query(User).filter_by(name='ed').first()\n",
    ")"
   ]
  },
  {
   "cell_type": "code",
   "execution_count": 19,
   "metadata": {},
   "outputs": [
    {
     "data": {
      "text/plain": [
       "<User(name='ed', fullname='Éd Jones', nickname='edsnickname')>"
      ]
     },
     "execution_count": 19,
     "metadata": {},
     "output_type": "execute_result"
    }
   ],
   "source": [
    "our_user"
   ]
  },
  {
   "cell_type": "code",
   "execution_count": 20,
   "metadata": {},
   "outputs": [
    {
     "data": {
      "text/plain": [
       "True"
      ]
     },
     "execution_count": 20,
     "metadata": {},
     "output_type": "execute_result"
    }
   ],
   "source": [
    "ed_user is our_user"
   ]
  },
  {
   "cell_type": "code",
   "execution_count": 21,
   "metadata": {},
   "outputs": [],
   "source": [
    "# use add_all() to add more than one User object at once\n",
    "\n",
    "session.add_all(\n",
    "    [\n",
    "        User(name=\"wendy\", fullname=\"Wendy Williams\", nickname=\"windy\"),\n",
    "        User(name=\"mary\", fullname=\"Mary Contrary\", nickname=\"mary\"),\n",
    "        User(name=\"fred\", fullname=\"Fred Flintstone\", nickname=\"freddy\"),\n",
    "    ]\n",
    ")"
   ]
  },
  {
   "cell_type": "code",
   "execution_count": 22,
   "metadata": {},
   "outputs": [],
   "source": [
    "# we can also change objects attribute simply by reassigning them\n",
    "\n",
    "ed_user.nickname = 'eddie'"
   ]
  },
  {
   "cell_type": "code",
   "execution_count": 23,
   "metadata": {},
   "outputs": [
    {
     "data": {
      "text/plain": [
       "IdentitySet([<User(name='ed', fullname='Éd Jones', nickname='eddie')>])"
      ]
     },
     "execution_count": 23,
     "metadata": {},
     "output_type": "execute_result"
    }
   ],
   "source": [
    "session.dirty"
   ]
  },
  {
   "cell_type": "code",
   "execution_count": 24,
   "metadata": {},
   "outputs": [
    {
     "data": {
      "text/plain": [
       "IdentitySet([<User(name='wendy', fullname='Wendy Williams', nickname='windy')>, <User(name='mary', fullname='Mary Contrary', nickname='mary')>, <User(name='fred', fullname='Fred Flintstone', nickname='freddy')>])"
      ]
     },
     "execution_count": 24,
     "metadata": {},
     "output_type": "execute_result"
    }
   ],
   "source": [
    "session.new # displays pending commits to be made"
   ]
  },
  {
   "cell_type": "code",
   "execution_count": 25,
   "metadata": {},
   "outputs": [
    {
     "name": "stdout",
     "output_type": "stream",
     "text": [
      "2023-03-17 22:27:14,387 INFO sqlalchemy.engine.Engine UPDATE users SET nickname=? WHERE users.id = ?\n",
      "2023-03-17 22:27:14,395 INFO sqlalchemy.engine.Engine [generated in 0.01146s] ('eddie', 1)\n",
      "2023-03-17 22:27:14,411 INFO sqlalchemy.engine.Engine INSERT INTO users (name, fullname, nickname) VALUES (?, ?, ?), (?, ?, ?), (?, ?, ?) RETURNING id\n",
      "2023-03-17 22:27:14,412 INFO sqlalchemy.engine.Engine [generated in 0.00036s (insertmanyvalues)] ('wendy', 'Wendy Williams', 'windy', 'mary', 'Mary Contrary', 'mary', 'fred', 'Fred Flintstone', 'freddy')\n",
      "2023-03-17 22:27:14,419 INFO sqlalchemy.engine.Engine COMMIT\n"
     ]
    }
   ],
   "source": [
    "# to add changes to the db we need to commit\n",
    "\n",
    "session.commit()"
   ]
  },
  {
   "cell_type": "code",
   "execution_count": 26,
   "metadata": {},
   "outputs": [
    {
     "name": "stdout",
     "output_type": "stream",
     "text": [
      "2023-03-17 22:44:26,272 INFO sqlalchemy.engine.Engine BEGIN (implicit)\n",
      "2023-03-17 22:44:26,290 INFO sqlalchemy.engine.Engine SELECT users.id AS users_id, users.name AS users_name, users.fullname AS users_fullname, users.nickname AS users_nickname \n",
      "FROM users \n",
      "WHERE users.id = ?\n",
      "2023-03-17 22:44:26,291 INFO sqlalchemy.engine.Engine [generated in 0.00424s] (1,)\n"
     ]
    },
    {
     "data": {
      "text/plain": [
       "1"
      ]
     },
     "execution_count": 26,
     "metadata": {},
     "output_type": "execute_result"
    }
   ],
   "source": [
    "ed_user.id"
   ]
  },
  {
   "cell_type": "code",
   "execution_count": 27,
   "metadata": {},
   "outputs": [],
   "source": [
    "# Rolling back Transactions\n",
    "\n",
    "ed_user.name = 'Edwardo'"
   ]
  },
  {
   "cell_type": "code",
   "execution_count": 28,
   "metadata": {},
   "outputs": [],
   "source": [
    "fake_user = User(name='Fakeuser', fullname='Invalid', nickname='123')\n",
    "session.add(fake_user)"
   ]
  },
  {
   "cell_type": "code",
   "execution_count": 29,
   "metadata": {},
   "outputs": [
    {
     "data": {
      "text/plain": [
       "IdentitySet([<User(name='Fakeuser', fullname='Invalid', nickname='123')>])"
      ]
     },
     "execution_count": 29,
     "metadata": {},
     "output_type": "execute_result"
    }
   ],
   "source": [
    "session.new"
   ]
  },
  {
   "cell_type": "code",
   "execution_count": 30,
   "metadata": {},
   "outputs": [
    {
     "name": "stdout",
     "output_type": "stream",
     "text": [
      "2023-03-17 22:56:14,141 INFO sqlalchemy.engine.Engine UPDATE users SET name=? WHERE users.id = ?\n",
      "2023-03-17 22:56:14,143 INFO sqlalchemy.engine.Engine [generated in 0.00195s] ('Edwardo', 1)\n",
      "2023-03-17 22:56:14,156 INFO sqlalchemy.engine.Engine INSERT INTO users (name, fullname, nickname) VALUES (?, ?, ?)\n",
      "2023-03-17 22:56:14,158 INFO sqlalchemy.engine.Engine [cached since 3525s ago] ('Fakeuser', 'Invalid', '123')\n",
      "2023-03-17 22:56:14,162 INFO sqlalchemy.engine.Engine SELECT users.id AS users_id, users.name AS users_name, users.fullname AS users_fullname, users.nickname AS users_nickname \n",
      "FROM users \n",
      "WHERE users.name IN (?, ?)\n",
      "2023-03-17 22:56:14,163 INFO sqlalchemy.engine.Engine [generated in 0.00113s] ('Edwardo', 'Fakeuser')\n"
     ]
    },
    {
     "data": {
      "text/plain": [
       "[<User(name='Edwardo', fullname='Éd Jones', nickname='eddie')>,\n",
       " <User(name='Fakeuser', fullname='Invalid', nickname='123')>]"
      ]
     },
     "execution_count": 30,
     "metadata": {},
     "output_type": "execute_result"
    }
   ],
   "source": [
    "session.query(User).filter(User.name.in_(['Edwardo', 'Fakeuser'])).all()"
   ]
  },
  {
   "cell_type": "code",
   "execution_count": 31,
   "metadata": {},
   "outputs": [
    {
     "name": "stdout",
     "output_type": "stream",
     "text": [
      "2023-03-17 22:57:24,044 INFO sqlalchemy.engine.Engine ROLLBACK\n"
     ]
    }
   ],
   "source": [
    "# if we roll back the transaction fakeuser will be kicked out and ed_username will be set back to ed\n",
    "\n",
    "session.rollback()"
   ]
  },
  {
   "cell_type": "code",
   "execution_count": 32,
   "metadata": {},
   "outputs": [
    {
     "name": "stdout",
     "output_type": "stream",
     "text": [
      "2023-03-17 22:57:29,868 INFO sqlalchemy.engine.Engine BEGIN (implicit)\n",
      "2023-03-17 22:57:29,869 INFO sqlalchemy.engine.Engine SELECT users.id AS users_id, users.name AS users_name, users.fullname AS users_fullname, users.nickname AS users_nickname \n",
      "FROM users \n",
      "WHERE users.id = ?\n",
      "2023-03-17 22:57:29,869 INFO sqlalchemy.engine.Engine [cached since 783.6s ago] (1,)\n"
     ]
    },
    {
     "data": {
      "text/plain": [
       "'ed'"
      ]
     },
     "execution_count": 32,
     "metadata": {},
     "output_type": "execute_result"
    }
   ],
   "source": [
    "ed_user.name"
   ]
  },
  {
   "cell_type": "code",
   "execution_count": 33,
   "metadata": {},
   "outputs": [
    {
     "data": {
      "text/plain": [
       "False"
      ]
     },
     "execution_count": 33,
     "metadata": {},
     "output_type": "execute_result"
    }
   ],
   "source": [
    "fake_user in session"
   ]
  },
  {
   "cell_type": "code",
   "execution_count": 34,
   "metadata": {},
   "outputs": [
    {
     "name": "stdout",
     "output_type": "stream",
     "text": [
      "2023-03-17 22:58:55,339 INFO sqlalchemy.engine.Engine SELECT users.id AS users_id, users.name AS users_name, users.fullname AS users_fullname, users.nickname AS users_nickname \n",
      "FROM users \n",
      "WHERE users.name IN (?, ?)\n",
      "2023-03-17 22:58:55,341 INFO sqlalchemy.engine.Engine [cached since 161.2s ago] ('ed', 'Fakeuser')\n"
     ]
    },
    {
     "data": {
      "text/plain": [
       "[<User(name='ed', fullname='Éd Jones', nickname='eddie')>]"
      ]
     },
     "execution_count": 34,
     "metadata": {},
     "output_type": "execute_result"
    }
   ],
   "source": [
    "session.query(User).filter(User.name.in_(['ed', 'Fakeuser'])).all()"
   ]
  },
  {
   "attachments": {},
   "cell_type": "markdown",
   "metadata": {},
   "source": [
    "##### QUERYING \n",
    "\n",
    "we can query the session for instances in our User "
   ]
  },
  {
   "cell_type": "code",
   "execution_count": 35,
   "metadata": {},
   "outputs": [
    {
     "name": "stdout",
     "output_type": "stream",
     "text": [
      "2023-03-17 23:02:16,024 INFO sqlalchemy.engine.Engine SELECT users.id AS users_id, users.name AS users_name, users.fullname AS users_fullname, users.nickname AS users_nickname \n",
      "FROM users ORDER BY users.id\n",
      "2023-03-17 23:02:16,028 INFO sqlalchemy.engine.Engine [generated in 0.00449s] ()\n",
      "1 Éd Jones eddie\n",
      "2 Wendy Williams windy\n",
      "3 Mary Contrary mary\n",
      "4 Fred Flintstone freddy\n"
     ]
    }
   ],
   "source": [
    "for instance in session.query(User).order_by(User.id):\n",
    "    print(instance.id, instance.fullname, instance.nickname)"
   ]
  },
  {
   "cell_type": "code",
   "execution_count": 37,
   "metadata": {},
   "outputs": [
    {
     "name": "stdout",
     "output_type": "stream",
     "text": [
      "2023-03-17 23:18:07,646 INFO sqlalchemy.engine.Engine SELECT users.name AS users_name, users.fullname AS users_fullname \n",
      "FROM users\n",
      "2023-03-17 23:18:07,647 INFO sqlalchemy.engine.Engine [generated in 0.00276s] ()\n",
      "ed Éd Jones\n",
      "wendy Wendy Williams\n",
      "mary Mary Contrary\n",
      "fred Fred Flintstone\n"
     ]
    }
   ],
   "source": [
    "for name, fullname in session.query(User.name, User.fullname):\n",
    "    print(name, fullname)"
   ]
  },
  {
   "cell_type": "code",
   "execution_count": 38,
   "metadata": {},
   "outputs": [
    {
     "name": "stdout",
     "output_type": "stream",
     "text": [
      "2023-03-17 23:19:32,762 INFO sqlalchemy.engine.Engine SELECT users.id AS users_id, users.name AS users_name, users.fullname AS users_fullname, users.nickname AS users_nickname, users.name AS users_name__1 \n",
      "FROM users\n",
      "2023-03-17 23:19:32,765 INFO sqlalchemy.engine.Engine [generated in 0.00298s] ()\n",
      "<User(name='ed', fullname='Éd Jones', nickname='eddie')> ed\n",
      "<User(name='wendy', fullname='Wendy Williams', nickname='windy')> wendy\n",
      "<User(name='mary', fullname='Mary Contrary', nickname='mary')> mary\n",
      "<User(name='fred', fullname='Fred Flintstone', nickname='freddy')> fred\n"
     ]
    }
   ],
   "source": [
    "for row in session.query(User, User.name).all():\n",
    "    print(row.User, row.name)"
   ]
  },
  {
   "cell_type": "code",
   "execution_count": 39,
   "metadata": {},
   "outputs": [
    {
     "name": "stdout",
     "output_type": "stream",
     "text": [
      "2023-03-17 23:21:42,276 INFO sqlalchemy.engine.Engine SELECT users.name AS name_label \n",
      "FROM users\n",
      "2023-03-17 23:21:42,279 INFO sqlalchemy.engine.Engine [generated in 0.00173s] ()\n",
      "ed\n",
      "wendy\n",
      "mary\n",
      "fred\n"
     ]
    }
   ],
   "source": [
    "# using label to control individual column expression\n",
    "\n",
    "for row in session.query(User.name.label('name_label')).all():\n",
    "    print(row.name_label)"
   ]
  },
  {
   "cell_type": "code",
   "execution_count": 40,
   "metadata": {},
   "outputs": [
    {
     "name": "stdout",
     "output_type": "stream",
     "text": [
      "2023-03-17 23:37:14,142 INFO sqlalchemy.engine.Engine SELECT user_alias.id AS user_alias_id, user_alias.name AS user_alias_name, user_alias.fullname AS user_alias_fullname, user_alias.nickname AS user_alias_nickname, user_alias.name AS user_alias_name__1 \n",
      "FROM users AS user_alias\n",
      "2023-03-17 23:37:14,144 INFO sqlalchemy.engine.Engine [generated in 0.00236s] ()\n",
      "<User(name='ed', fullname='Éd Jones', nickname='eddie')>\n",
      "<User(name='wendy', fullname='Wendy Williams', nickname='windy')>\n",
      "<User(name='mary', fullname='Mary Contrary', nickname='mary')>\n",
      "<User(name='fred', fullname='Fred Flintstone', nickname='freddy')>\n"
     ]
    }
   ],
   "source": [
    "# using aliased table name\n",
    "from sqlalchemy.orm import aliased\n",
    "user_alias = aliased(User, name='user_alias')\n",
    "\n",
    "for row in session.query(user_alias, user_alias.name).all():\n",
    "    print(row.user_alias)"
   ]
  },
  {
   "cell_type": "code",
   "execution_count": 41,
   "metadata": {},
   "outputs": [
    {
     "name": "stdout",
     "output_type": "stream",
     "text": [
      "2023-03-17 23:40:06,706 INFO sqlalchemy.engine.Engine SELECT users.id AS users_id, users.name AS users_name, users.fullname AS users_fullname, users.nickname AS users_nickname \n",
      "FROM users ORDER BY users.id\n",
      " LIMIT ? OFFSET ?\n",
      "2023-03-17 23:40:06,708 INFO sqlalchemy.engine.Engine [generated in 0.00178s] (2, 1)\n",
      "<User(name='wendy', fullname='Wendy Williams', nickname='windy')>\n",
      "<User(name='mary', fullname='Mary Contrary', nickname='mary')>\n"
     ]
    }
   ],
   "source": [
    "# offset and limit using python array slices\n",
    "for u in session.query(User).order_by(User.id)[1:3]: # start from second row offset 1\n",
    "    print(u)"
   ]
  },
  {
   "cell_type": "code",
   "execution_count": 42,
   "metadata": {},
   "outputs": [
    {
     "name": "stdout",
     "output_type": "stream",
     "text": [
      "2023-03-18 00:08:14,114 INFO sqlalchemy.engine.Engine SELECT users.name AS users_name \n",
      "FROM users \n",
      "WHERE users.fullname = ?\n",
      "2023-03-18 00:08:14,115 INFO sqlalchemy.engine.Engine [generated in 0.00100s] ('Ed Jones',)\n"
     ]
    }
   ],
   "source": [
    "## using filter() or filter_by(keyword=)\n",
    "\n",
    "for (name, ) in session.query(User.name).filter_by(fullname='Ed Jones'):\n",
    "    print(name)"
   ]
  },
  {
   "cell_type": "code",
   "execution_count": 43,
   "metadata": {},
   "outputs": [
    {
     "name": "stdout",
     "output_type": "stream",
     "text": [
      "2023-03-18 00:09:13,739 INFO sqlalchemy.engine.Engine SELECT users.name AS users_name \n",
      "FROM users \n",
      "WHERE users.fullname = ?\n",
      "2023-03-18 00:09:13,740 INFO sqlalchemy.engine.Engine [cached since 59.63s ago] ('Ed Jones',)\n"
     ]
    }
   ],
   "source": [
    "for (name, ) in session.query(User.name).filter(User.fullname == 'Ed Jones'):\n",
    "    print(name)"
   ]
  },
  {
   "cell_type": "code",
   "execution_count": 47,
   "metadata": {},
   "outputs": [
    {
     "name": "stdout",
     "output_type": "stream",
     "text": [
      "2023-03-18 00:13:38,594 INFO sqlalchemy.engine.Engine SELECT users.id AS users_id, users.name AS users_name, users.fullname AS users_fullname, users.nickname AS users_nickname \n",
      "FROM users \n",
      "WHERE users.name = ? AND users.fullname = ?\n",
      "2023-03-18 00:13:38,595 INFO sqlalchemy.engine.Engine [cached since 119.8s ago] ('ed', 'Éd Jones')\n",
      "<User(name='ed', fullname='Éd Jones', nickname='eddie')>\n"
     ]
    }
   ],
   "source": [
    "## using multiple filters like multiple AND conditions\n",
    "for user in (\n",
    "    session.query(User).filter(User.name == 'ed').filter(User.fullname == 'Éd Jones')\n",
    "):\n",
    "    print(user)"
   ]
  },
  {
   "attachments": {},
   "cell_type": "markdown",
   "metadata": {},
   "source": [
    "#### useful column operators\n",
    "\n",
    "query.filter(User.name != \"ed\")\n",
    "\n",
    "query.filter(User.name.like('%ed%')) -> case sensitive\n",
    "\n",
    "query.filter(User.name.ilike('%ed%')) -> case insensitive\n",
    "\n",
    "query.filter(User.name == 'ed')\n",
    "\n",
    "query.filter(User.name.in_(['ed', 'wendy']))\n",
    "\n",
    "query.filter(~User.name.in_([\"ed\", \"wendy\", \"jack\"]))\n",
    "\n",
    "query.filter(User.name == None)\n",
    "\n",
    "query.filter(User.name.is_(None)) -> alternatively, if pep8/linters are a concern\n",
    "\n",
    "query.filter(User.name != None)\n",
    "\n",
    "\n",
    "query.filter(User.name.is_not(None)) -> alternatively, if pep8/linters are a concern\n",
    "\n"
   ]
  },
  {
   "cell_type": "code",
   "execution_count": 48,
   "metadata": {},
   "outputs": [
    {
     "name": "stdout",
     "output_type": "stream",
     "text": [
      "2023-03-18 00:26:30,882 INFO sqlalchemy.engine.Engine SELECT users.id AS users_id, users.name AS users_name, users.fullname AS users_fullname, users.nickname AS users_nickname \n",
      "FROM users \n",
      "WHERE users.name IN (SELECT users.name \n",
      "FROM users \n",
      "WHERE lower(users.name) LIKE lower(?))\n",
      "2023-03-18 00:26:30,886 INFO sqlalchemy.engine.Engine [generated in 0.00476s] ('%ed%',)\n",
      "<User(name='ed', fullname='Éd Jones', nickname='eddie')>\n",
      "<User(name='fred', fullname='Fred Flintstone', nickname='freddy')>\n"
     ]
    }
   ],
   "source": [
    "for user in session.query(User).filter(User.name.in_(\n",
    "    session.query(User.name).filter(User.name.ilike('%ed%'))\n",
    ")):\n",
    "    print(user)"
   ]
  },
  {
   "cell_type": "code",
   "execution_count": null,
   "metadata": {},
   "outputs": [],
   "source": [
    "# use and_()\n",
    "from sqlalchemy import and_\n",
    "query.filter(and_(User.name == 'ed', User.fullname == 'Ed Jones'))\n",
    "\n",
    "# or send multiple expressions to .filter()\n",
    "query.filter(User.name == 'ed', User.fullname == 'Ed Jones')\n",
    "\n",
    "# or chain multiple filter()/filter_by() calls\n",
    "query.filter(User.name == 'ed').filter(User.fullname == 'Ed Jones')"
   ]
  },
  {
   "cell_type": "code",
   "execution_count": null,
   "metadata": {},
   "outputs": [],
   "source": [
    "from sqlalchemy import or_\n",
    "query.filter(or_(User.name == 'ed', User.name == 'wendy'))"
   ]
  }
 ],
 "metadata": {
  "kernelspec": {
   "display_name": "env",
   "language": "python",
   "name": "python3"
  },
  "language_info": {
   "codemirror_mode": {
    "name": "ipython",
    "version": 3
   },
   "file_extension": ".py",
   "mimetype": "text/x-python",
   "name": "python",
   "nbconvert_exporter": "python",
   "pygments_lexer": "ipython3",
   "version": "3.10.0"
  },
  "orig_nbformat": 4
 },
 "nbformat": 4,
 "nbformat_minor": 2
}
