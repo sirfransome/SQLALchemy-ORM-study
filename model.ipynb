{
 "cells": [
  {
   "cell_type": "code",
   "execution_count": 3,
   "metadata": {},
   "outputs": [],
   "source": [
    "import sqlalchemy\n",
    "from sqlalchemy import create_engine\n",
    "import os\n",
    "from dotenv import load_dotenv\n"
   ]
  },
  {
   "cell_type": "code",
   "execution_count": 6,
   "metadata": {},
   "outputs": [],
   "source": [
    "load_dotenv()\n",
    "user = os.getenv('user')\n",
    "password = os.getenv('password')\n",
    "host = os.getenv('host')\n",
    "db = os.getenv('db')\n",
    "engine = create_engine(f'postgresql+psycopg2://{user}:{password}@{host}:5439/{db}')"
   ]
  },
  {
   "cell_type": "code",
   "execution_count": 7,
   "metadata": {},
   "outputs": [],
   "source": [
    "### using in memory db\n",
    "engine = create_engine('sqlite:///:memory:', echo=True)"
   ]
  },
  {
   "cell_type": "code",
   "execution_count": 8,
   "metadata": {},
   "outputs": [],
   "source": [
    "### declaring a mapping \n",
    "from sqlalchemy.orm import declarative_base\n",
    "Base = declarative_base()"
   ]
  },
  {
   "cell_type": "code",
   "execution_count": 9,
   "metadata": {},
   "outputs": [],
   "source": [
    "## creating a mapped class for a single table\n",
    "from sqlalchemy import Column, Integer, String\n",
    "class User(Base): # inherits from declarative base\n",
    "    __tablename__ = 'users'\n",
    "    # defining the table properties and attributes -> primary_key column is necessary\n",
    "\n",
    "    id = Column(Integer, primary_key=True)\n",
    "    name = Column(String)\n",
    "    fullname = Column(String)\n",
    "    nickname = Column(String)\n",
    "\n",
    "\n",
    "    def __repr__(self) -> str: # defines the format of our output\n",
    "        return \"<User(name='%s', fullname='%s', nickname='%s')>\" % (\n",
    "            self.name,\n",
    "            self.fullname,\n",
    "            self.nickname\n",
    "        )"
   ]
  },
  {
   "cell_type": "code",
   "execution_count": 11,
   "metadata": {},
   "outputs": [
    {
     "data": {
      "text/plain": [
       "Table('users', MetaData(), Column('id', Integer(), table=<users>, primary_key=True, nullable=False), Column('name', String(), table=<users>), Column('fullname', String(), table=<users>), Column('nickname', String(), table=<users>), schema=None)"
      ]
     },
     "execution_count": 11,
     "metadata": {},
     "output_type": "execute_result"
    }
   ],
   "source": [
    "## inspecting our table metadata\n",
    "User.__table__"
   ]
  },
  {
   "cell_type": "code",
   "execution_count": 13,
   "metadata": {},
   "outputs": [
    {
     "name": "stdout",
     "output_type": "stream",
     "text": [
      "2023-03-17 21:41:32,586 INFO sqlalchemy.engine.Engine BEGIN (implicit)\n",
      "2023-03-17 21:41:32,595 INFO sqlalchemy.engine.Engine PRAGMA main.table_info(\"users\")\n",
      "2023-03-17 21:41:32,597 INFO sqlalchemy.engine.Engine [raw sql] ()\n",
      "2023-03-17 21:41:32,603 INFO sqlalchemy.engine.Engine PRAGMA temp.table_info(\"users\")\n",
      "2023-03-17 21:41:32,604 INFO sqlalchemy.engine.Engine [raw sql] ()\n",
      "2023-03-17 21:41:32,610 INFO sqlalchemy.engine.Engine \n",
      "CREATE TABLE users (\n",
      "\tid INTEGER NOT NULL, \n",
      "\tname VARCHAR, \n",
      "\tfullname VARCHAR, \n",
      "\tnickname VARCHAR, \n",
      "\tPRIMARY KEY (id)\n",
      ")\n",
      "\n",
      "\n",
      "2023-03-17 21:41:32,613 INFO sqlalchemy.engine.Engine [no key 0.00233s] ()\n",
      "2023-03-17 21:41:32,615 INFO sqlalchemy.engine.Engine COMMIT\n"
     ]
    }
   ],
   "source": [
    "# using the Metadata registry to create a table\n",
    "Base.metadata.create_all(engine)"
   ]
  },
  {
   "cell_type": "code",
   "execution_count": null,
   "metadata": {},
   "outputs": [],
   "source": [
    "## for firebird and Oracle sequence is required to generate new PK\n",
    "\n",
    "from sqlalchemy import Sequence\n",
    "\n",
    "Column(Integer, Sequence(\"user_id_seq\"), primary_key=True)\n",
    "\n",
    "class User(Base):\n",
    "    __tablename__ = \"users\"\n",
    "    id = Column(Integer, Sequence(\"user_id_seq\"), primary_key=True)\n",
    "    name = Column(String(50))\n",
    "    fullname = Column(String(50))\n",
    "    nickname = Column(String(50))\n",
    "\n",
    "    def __repr__(self):\n",
    "        return \"<User(name='%s', fullname='%s', nickname='%s')>\" % (\n",
    "            self.name,\n",
    "            self.fullname,\n",
    "            self.nickname,\n",
    "        )\n"
   ]
  },
  {
   "cell_type": "code",
   "execution_count": 14,
   "metadata": {},
   "outputs": [
    {
     "data": {
      "text/plain": [
       "'ed'"
      ]
     },
     "execution_count": 14,
     "metadata": {},
     "output_type": "execute_result"
    }
   ],
   "source": [
    "# creating instance of the mapped class User\n",
    "ed_user = User(name='ed', fullname='Éd Jones', nickname= 'edsnickname')\n",
    "ed_user.name"
   ]
  },
  {
   "attachments": {},
   "cell_type": "markdown",
   "metadata": {},
   "source": [
    "Note the Base declarative system automatically provided the __init__() constructor class this can be declared explicitly which will over ride the default provided by Base"
   ]
  },
  {
   "cell_type": "code",
   "execution_count": 15,
   "metadata": {},
   "outputs": [],
   "source": [
    "# creating a session this allows us to speak to the db\n",
    "from sqlalchemy.orm import sessionmaker\n",
    "\n",
    "Session = sessionmaker(bind=engine)\n"
   ]
  },
  {
   "cell_type": "code",
   "execution_count": 16,
   "metadata": {},
   "outputs": [],
   "source": [
    "session = Session()"
   ]
  },
  {
   "cell_type": "code",
   "execution_count": 17,
   "metadata": {},
   "outputs": [],
   "source": [
    "# adding objects to our User\n",
    "ed_user = User(name='ed', fullname='Éd Jones', nickname= 'edsnickname')\n",
    "session.add(ed_user)"
   ]
  },
  {
   "cell_type": "code",
   "execution_count": 18,
   "metadata": {},
   "outputs": [
    {
     "name": "stdout",
     "output_type": "stream",
     "text": [
      "2023-03-17 21:57:28,960 INFO sqlalchemy.engine.Engine BEGIN (implicit)\n",
      "2023-03-17 21:57:28,973 INFO sqlalchemy.engine.Engine INSERT INTO users (name, fullname, nickname) VALUES (?, ?, ?)\n",
      "2023-03-17 21:57:28,974 INFO sqlalchemy.engine.Engine [generated in 0.00183s] ('ed', 'Éd Jones', 'edsnickname')\n",
      "2023-03-17 21:57:28,993 INFO sqlalchemy.engine.Engine SELECT users.id AS users_id, users.name AS users_name, users.fullname AS users_fullname, users.nickname AS users_nickname \n",
      "FROM users \n",
      "WHERE users.name = ?\n",
      " LIMIT ? OFFSET ?\n",
      "2023-03-17 21:57:28,994 INFO sqlalchemy.engine.Engine [generated in 0.00091s] ('ed', 1, 0)\n"
     ]
    }
   ],
   "source": [
    "# Getting our user\n",
    "our_user = (\n",
    "    session.query(User).filter_by(name='ed').first()\n",
    ")"
   ]
  },
  {
   "cell_type": "code",
   "execution_count": 19,
   "metadata": {},
   "outputs": [
    {
     "data": {
      "text/plain": [
       "<User(name='ed', fullname='Éd Jones', nickname='edsnickname')>"
      ]
     },
     "execution_count": 19,
     "metadata": {},
     "output_type": "execute_result"
    }
   ],
   "source": [
    "our_user"
   ]
  },
  {
   "cell_type": "code",
   "execution_count": 20,
   "metadata": {},
   "outputs": [
    {
     "data": {
      "text/plain": [
       "True"
      ]
     },
     "execution_count": 20,
     "metadata": {},
     "output_type": "execute_result"
    }
   ],
   "source": [
    "ed_user is our_user"
   ]
  },
  {
   "cell_type": "code",
   "execution_count": 21,
   "metadata": {},
   "outputs": [],
   "source": [
    "# use add_all() to add more than one User object at once\n",
    "\n",
    "session.add_all(\n",
    "    [\n",
    "        User(name=\"wendy\", fullname=\"Wendy Williams\", nickname=\"windy\"),\n",
    "        User(name=\"mary\", fullname=\"Mary Contrary\", nickname=\"mary\"),\n",
    "        User(name=\"fred\", fullname=\"Fred Flintstone\", nickname=\"freddy\"),\n",
    "    ]\n",
    ")"
   ]
  },
  {
   "cell_type": "code",
   "execution_count": 22,
   "metadata": {},
   "outputs": [],
   "source": [
    "# we can also change objects attribute simply by reassigning them\n",
    "\n",
    "ed_user.nickname = 'eddie'"
   ]
  },
  {
   "cell_type": "code",
   "execution_count": 23,
   "metadata": {},
   "outputs": [
    {
     "data": {
      "text/plain": [
       "IdentitySet([<User(name='ed', fullname='Éd Jones', nickname='eddie')>])"
      ]
     },
     "execution_count": 23,
     "metadata": {},
     "output_type": "execute_result"
    }
   ],
   "source": [
    "session.dirty"
   ]
  },
  {
   "cell_type": "code",
   "execution_count": 24,
   "metadata": {},
   "outputs": [
    {
     "data": {
      "text/plain": [
       "IdentitySet([<User(name='wendy', fullname='Wendy Williams', nickname='windy')>, <User(name='mary', fullname='Mary Contrary', nickname='mary')>, <User(name='fred', fullname='Fred Flintstone', nickname='freddy')>])"
      ]
     },
     "execution_count": 24,
     "metadata": {},
     "output_type": "execute_result"
    }
   ],
   "source": [
    "session.new # displays pending commits to be made"
   ]
  },
  {
   "cell_type": "code",
   "execution_count": 25,
   "metadata": {},
   "outputs": [
    {
     "name": "stdout",
     "output_type": "stream",
     "text": [
      "2023-03-17 22:27:14,387 INFO sqlalchemy.engine.Engine UPDATE users SET nickname=? WHERE users.id = ?\n",
      "2023-03-17 22:27:14,395 INFO sqlalchemy.engine.Engine [generated in 0.01146s] ('eddie', 1)\n",
      "2023-03-17 22:27:14,411 INFO sqlalchemy.engine.Engine INSERT INTO users (name, fullname, nickname) VALUES (?, ?, ?), (?, ?, ?), (?, ?, ?) RETURNING id\n",
      "2023-03-17 22:27:14,412 INFO sqlalchemy.engine.Engine [generated in 0.00036s (insertmanyvalues)] ('wendy', 'Wendy Williams', 'windy', 'mary', 'Mary Contrary', 'mary', 'fred', 'Fred Flintstone', 'freddy')\n",
      "2023-03-17 22:27:14,419 INFO sqlalchemy.engine.Engine COMMIT\n"
     ]
    }
   ],
   "source": [
    "# to add changes to the db we need to commit\n",
    "\n",
    "session.commit()"
   ]
  },
  {
   "cell_type": "code",
   "execution_count": 26,
   "metadata": {},
   "outputs": [
    {
     "name": "stdout",
     "output_type": "stream",
     "text": [
      "2023-03-17 22:44:26,272 INFO sqlalchemy.engine.Engine BEGIN (implicit)\n",
      "2023-03-17 22:44:26,290 INFO sqlalchemy.engine.Engine SELECT users.id AS users_id, users.name AS users_name, users.fullname AS users_fullname, users.nickname AS users_nickname \n",
      "FROM users \n",
      "WHERE users.id = ?\n",
      "2023-03-17 22:44:26,291 INFO sqlalchemy.engine.Engine [generated in 0.00424s] (1,)\n"
     ]
    },
    {
     "data": {
      "text/plain": [
       "1"
      ]
     },
     "execution_count": 26,
     "metadata": {},
     "output_type": "execute_result"
    }
   ],
   "source": [
    "ed_user.id"
   ]
  },
  {
   "cell_type": "code",
   "execution_count": null,
   "metadata": {},
   "outputs": [],
   "source": []
  }
 ],
 "metadata": {
  "kernelspec": {
   "display_name": "env",
   "language": "python",
   "name": "python3"
  },
  "language_info": {
   "codemirror_mode": {
    "name": "ipython",
    "version": 3
   },
   "file_extension": ".py",
   "mimetype": "text/x-python",
   "name": "python",
   "nbconvert_exporter": "python",
   "pygments_lexer": "ipython3",
   "version": "3.10.0"
  },
  "orig_nbformat": 4
 },
 "nbformat": 4,
 "nbformat_minor": 2
}
